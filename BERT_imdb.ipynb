{
 "cells": [
  {
   "cell_type": "code",
   "execution_count": 1,
   "id": "68c4cc3c-4247-446d-ae84-2a16b56553b8",
   "metadata": {},
   "outputs": [],
   "source": [
    "import numpy as np\n",
    "import pandas as pd\n",
    "import tensorflow as tf\n",
    "from tensorflow.keras.models import Sequential\n",
    "from tensorflow.keras.layers import GRU, LSTM, Dense, Embedding\n",
    "from tensorflow.keras.preprocessing.sequence import pad_sequences\n",
    "from tensorflow.keras.datasets import imdb"
   ]
  },
  {
   "cell_type": "markdown",
   "id": "056983bc-5aaf-4c2e-8096-701014067ada",
   "metadata": {},
   "source": [
    "#### Load data"
   ]
  },
  {
   "cell_type": "markdown",
   "id": "6b345d02-33c0-4621-add1-51081f35d90d",
   "metadata": {},
   "source": [
    "x_train y x_test: Son listas de reseñas, pero no en forma de texto; cada reseña se codifica como una secuencia de enteros. Cada entero representa la posición de una palabra en el diccionario generado por el dataset en función de su frecuencia. Es decir, por ejemplo, si configuras num_words=max_features (digamos, 10,000), sólo se conservarán las 10,000 palabras más frecuentes, y las demás se descartarán o se marcarán como desconocidas. Esto ayuda a reducir el ruido y manejar un vocabulario de tamaño fijo.  \n",
    "\n",
    "y_train y y_test: Son las etiquetas asociadas a cada reseña. Generalmente, en el dataset IMDb, estas etiquetas son binarias:\n",
    "\n",
    "0 para reseñas negativas  \n",
    "\n",
    "1 para reseñas positivas  "
   ]
  },
  {
   "cell_type": "code",
   "execution_count": 2,
   "id": "63d596d0-1454-486a-8835-3a53d9ce8881",
   "metadata": {},
   "outputs": [
    {
     "name": "stdout",
     "output_type": "stream",
     "text": [
      "First review:\n",
      "[list([1, 14, 22, 16, 43, 530, 973, 1622, 1385, 65, 458, 4468, 66, 3941, 4, 173, 36, 256, 5, 25, 100, 43, 838, 112, 50, 670, 2, 9, 35, 480, 284, 5, 150, 4, 172, 112, 167, 2, 336, 385, 39, 4, 172, 4536, 1111, 17, 546, 38, 13, 447, 4, 192, 50, 16, 6, 147, 2025, 19, 14, 22, 4, 1920, 4613, 469, 4, 22, 71, 87, 12, 16, 43, 530, 38, 76, 15, 13, 1247, 4, 22, 17, 515, 17, 12, 16, 626, 18, 2, 5, 62, 386, 12, 8, 316, 8, 106, 5, 4, 2223, 5244, 16, 480, 66, 3785, 33, 4, 130, 12, 16, 38, 619, 5, 25, 124, 51, 36, 135, 48, 25, 1415, 33, 6, 22, 12, 215, 28, 77, 52, 5, 14, 407, 16, 82, 2, 8, 4, 107, 117, 5952, 15, 256, 4, 2, 7, 3766, 5, 723, 36, 71, 43, 530, 476, 26, 400, 317, 46, 7, 4, 2, 1029, 13, 104, 88, 4, 381, 15, 297, 98, 32, 2071, 56, 26, 141, 6, 194, 7486, 18, 4, 226, 22, 21, 134, 476, 26, 480, 5, 144, 30, 5535, 18, 51, 36, 28, 224, 92, 25, 104, 4, 226, 65, 16, 38, 1334, 88, 12, 16, 283, 5, 16, 4472, 113, 103, 32, 15, 16, 5345, 19, 178, 32])\n",
      " list([1, 194, 1153, 194, 8255, 78, 228, 5, 6, 1463, 4369, 5012, 134, 26, 4, 715, 8, 118, 1634, 14, 394, 20, 13, 119, 954, 189, 102, 5, 207, 110, 3103, 21, 14, 69, 188, 8, 30, 23, 7, 4, 249, 126, 93, 4, 114, 9, 2300, 1523, 5, 647, 4, 116, 9, 35, 8163, 4, 229, 9, 340, 1322, 4, 118, 9, 4, 130, 4901, 19, 4, 1002, 5, 89, 29, 952, 46, 37, 4, 455, 9, 45, 43, 38, 1543, 1905, 398, 4, 1649, 26, 6853, 5, 163, 11, 3215, 2, 4, 1153, 9, 194, 775, 7, 8255, 2, 349, 2637, 148, 605, 2, 8003, 15, 123, 125, 68, 2, 6853, 15, 349, 165, 4362, 98, 5, 4, 228, 9, 43, 2, 1157, 15, 299, 120, 5, 120, 174, 11, 220, 175, 136, 50, 9, 4373, 228, 8255, 5, 2, 656, 245, 2350, 5, 4, 9837, 131, 152, 491, 18, 2, 32, 7464, 1212, 14, 9, 6, 371, 78, 22, 625, 64, 1382, 9, 8, 168, 145, 23, 4, 1690, 15, 16, 4, 1355, 5, 28, 6, 52, 154, 462, 33, 89, 78, 285, 16, 145, 95])\n",
      " list([1, 14, 47, 8, 30, 31, 7, 4, 249, 108, 7, 4, 5974, 54, 61, 369, 13, 71, 149, 14, 22, 112, 4, 2401, 311, 12, 16, 3711, 33, 75, 43, 1829, 296, 4, 86, 320, 35, 534, 19, 263, 4821, 1301, 4, 1873, 33, 89, 78, 12, 66, 16, 4, 360, 7, 4, 58, 316, 334, 11, 4, 1716, 43, 645, 662, 8, 257, 85, 1200, 42, 1228, 2578, 83, 68, 3912, 15, 36, 165, 1539, 278, 36, 69, 2, 780, 8, 106, 14, 6905, 1338, 18, 6, 22, 12, 215, 28, 610, 40, 6, 87, 326, 23, 2300, 21, 23, 22, 12, 272, 40, 57, 31, 11, 4, 22, 47, 6, 2307, 51, 9, 170, 23, 595, 116, 595, 1352, 13, 191, 79, 638, 89, 2, 14, 9, 8, 106, 607, 624, 35, 534, 6, 227, 7, 129, 113])\n",
      " ...\n",
      " list([1, 11, 6, 230, 245, 6401, 9, 6, 1225, 446, 2, 45, 2174, 84, 8322, 4007, 21, 4, 912, 84, 2, 325, 725, 134, 2, 1715, 84, 5, 36, 28, 57, 1099, 21, 8, 140, 8, 703, 5, 2, 84, 56, 18, 1644, 14, 9, 31, 7, 4, 9406, 1209, 2295, 2, 1008, 18, 6, 20, 207, 110, 563, 12, 8, 2901, 2, 8, 97, 6, 20, 53, 4767, 74, 4, 460, 364, 1273, 29, 270, 11, 960, 108, 45, 40, 29, 2961, 395, 11, 6, 4065, 500, 7, 2, 89, 364, 70, 29, 140, 4, 64, 4780, 11, 4, 2678, 26, 178, 4, 529, 443, 2, 5, 27, 710, 117, 2, 8123, 165, 47, 84, 37, 131, 818, 14, 595, 10, 10, 61, 1242, 1209, 10, 10, 288, 2260, 1702, 34, 2901, 2, 4, 65, 496, 4, 231, 7, 790, 5, 6, 320, 234, 2766, 234, 1119, 1574, 7, 496, 4, 139, 929, 2901, 2, 7750, 5, 4241, 18, 4, 8497, 2, 250, 11, 1818, 7561, 4, 4217, 5408, 747, 1115, 372, 1890, 1006, 541, 9303, 7, 4, 59, 2, 4, 3586, 2])\n",
      " list([1, 1446, 7079, 69, 72, 3305, 13, 610, 930, 8, 12, 582, 23, 5, 16, 484, 685, 54, 349, 11, 4120, 2959, 45, 58, 1466, 13, 197, 12, 16, 43, 23, 2, 5, 62, 30, 145, 402, 11, 4131, 51, 575, 32, 61, 369, 71, 66, 770, 12, 1054, 75, 100, 2198, 8, 4, 105, 37, 69, 147, 712, 75, 3543, 44, 257, 390, 5, 69, 263, 514, 105, 50, 286, 1814, 23, 4, 123, 13, 161, 40, 5, 421, 4, 116, 16, 897, 13, 2, 40, 319, 5872, 112, 6700, 11, 4803, 121, 25, 70, 3468, 4, 719, 3798, 13, 18, 31, 62, 40, 8, 7200, 4, 2, 7, 14, 123, 5, 942, 25, 8, 721, 12, 145, 5, 202, 12, 160, 580, 202, 12, 6, 52, 58, 2, 92, 401, 728, 12, 39, 14, 251, 8, 15, 251, 5, 2, 12, 38, 84, 80, 124, 12, 9, 23])\n",
      " list([1, 17, 6, 194, 337, 7, 4, 204, 22, 45, 254, 8, 106, 14, 123, 4, 2, 270, 2, 5, 2, 2, 732, 2098, 101, 405, 39, 14, 1034, 4, 1310, 9, 115, 50, 305, 12, 47, 4, 168, 5, 235, 7, 38, 111, 699, 102, 7, 4, 4039, 9245, 9, 24, 6, 78, 1099, 17, 2345, 2, 21, 27, 9685, 6139, 5, 2, 1603, 92, 1183, 4, 1310, 7, 4, 204, 42, 97, 90, 35, 221, 109, 29, 127, 27, 118, 8, 97, 12, 157, 21, 6789, 2, 9, 6, 66, 78, 1099, 4, 631, 1191, 5, 2642, 272, 191, 1070, 6, 7585, 8, 2197, 2, 2, 544, 5, 383, 1271, 848, 1468, 2, 497, 2, 8, 1597, 8778, 2, 21, 60, 27, 239, 9, 43, 8368, 209, 405, 10, 10, 12, 764, 40, 4, 248, 20, 12, 16, 5, 174, 1791, 72, 7, 51, 6, 1739, 22, 4, 204, 131, 9])]\n",
      "\n",
      "First review label:\n",
      "[1 0 0 ... 0 1 0]\n"
     ]
    }
   ],
   "source": [
    "max_features = 10000\n",
    "maxlen = 500\n",
    "\n",
    "(x_train, y_train), (x_test, y_test) = imdb.load_data(num_words=max_features)\n",
    "\n",
    "# Let's take a look at what the review is like!\n",
    "print(\"First review:\")\n",
    "print(x_train)\n",
    "\n",
    "print(\"\\nFirst review label:\")\n",
    "print(y_train)\n"
   ]
  },
  {
   "cell_type": "code",
   "execution_count": 3,
   "id": "6c6b6457-3500-476b-ada1-721f5ce0d0ae",
   "metadata": {},
   "outputs": [
    {
     "name": "stdout",
     "output_type": "stream",
     "text": [
      "[1, 194, 1153, 194, 8255, 78, 228, 5, 6, 1463, 4369, 5012, 134, 26, 4, 715, 8, 118, 1634, 14, 394, 20, 13, 119, 954, 189, 102, 5, 207, 110, 3103, 21, 14, 69, 188, 8, 30, 23, 7, 4, 249, 126, 93, 4, 114, 9, 2300, 1523, 5, 647, 4, 116, 9, 35, 8163, 4, 229, 9, 340, 1322, 4, 118, 9, 4, 130, 4901, 19, 4, 1002, 5, 89, 29, 952, 46, 37, 4, 455, 9, 45, 43, 38, 1543, 1905, 398, 4, 1649, 26, 6853, 5, 163, 11, 3215, 2, 4, 1153, 9, 194, 775, 7, 8255, 2, 349, 2637, 148, 605, 2, 8003, 15, 123, 125, 68, 2, 6853, 15, 349, 165, 4362, 98, 5, 4, 228, 9, 43, 2, 1157, 15, 299, 120, 5, 120, 174, 11, 220, 175, 136, 50, 9, 4373, 228, 8255, 5, 2, 656, 245, 2350, 5, 4, 9837, 131, 152, 491, 18, 2, 32, 7464, 1212, 14, 9, 6, 371, 78, 22, 625, 64, 1382, 9, 8, 168, 145, 23, 4, 1690, 15, 16, 4, 1355, 5, 28, 6, 52, 154, 462, 33, 89, 78, 285, 16, 145, 95]\n",
      "? big hair big boobs bad music and a giant safety pin these are the words to best describe this terrible movie i love cheesy horror movies and i've seen hundreds but this had got to be on of the worst ever made the plot is paper thin and ridiculous the acting is an abomination the script is completely laughable the best is the end showdown with the cop and how he worked out who the killer is it's just so damn terribly written the clothes are sickening and funny in equal ? the hair is big lots of boobs ? men wear those cut ? shirts that show off their ? sickening that men actually wore them and the music is just ? trash that plays over and over again in almost every scene there is trashy music boobs and ? taking away bodies and the gym still doesn't close for ? all joking aside this is a truly bad film whose only charm is to look back on the disaster that was the 80's and have a good old laugh at how bad everything was back then\n"
     ]
    }
   ],
   "source": [
    "\n",
    "# Obtén el diccionario que mapea cada palabra a un índice\n",
    "word_index = imdb.get_word_index()\n",
    "\n",
    "# Construye el diccionario inverso: índice -> palabra\n",
    "reverse_word_index = {value: key for key, value in word_index.items()}\n",
    "\n",
    "# Función para decodificar una reseña\n",
    "def decode_review(review):\n",
    "    # Resta 3 a cada índice para compensar los tokens reservados: \n",
    "    # 0: padding, 1: inicio de secuencia, 2: word_unknown\n",
    "    return ' '.join([reverse_word_index.get(i - 3, '?') for i in review])\n",
    "\n",
    "# Decodifica y muestra la primera reseña de entrenamiento\n",
    "print(x_train[1])\n",
    "print(decode_review(x_train[1]))"
   ]
  },
  {
   "cell_type": "markdown",
   "id": "872a8289-50a6-41d0-b2a5-6b070c4b1498",
   "metadata": {},
   "source": [
    "#### ¿Que proceso de codificacion se ha seguido? (leer)\n",
    "\n",
    "\n",
    "\n",
    "El proceso se basa en una tokenización muy sencilla y en un análisis de frecuencia de palabras. En el caso del dataset IMDB, las reseñas ya han sido preprocesadas de la siguiente manera:  \n",
    "\n",
    "**Tokenización**: Cada reseña se divide en palabras (o tokens) mediante un método simple de separación, generalmente eliminando puntuación y pasando todo a minúsculas.  \n",
    "\n",
    "**Construcción del diccionario**: Se analiza el corpus completo para contar la frecuencia de aparición de cada palabra. Las palabras se ordenan por frecuencia y se les asigna un entero. Las palabras más frecuentes se asignan a números más bajos.  \n",
    "\n",
    "**Conversión de reseñas**: Por cada reseña, cada palabra es reemplazada por su entero correspondiente, de acuerdo al diccionario construido. De esta forma, la reseña se transforma en una secuencia de números. Además, se reservan algunos índices (por ejemplo, 0, 1 y 2) para tokens especiales como padding, inicio de secuencia y palabras desconocidas.  \n",
    "\n",
    "El parámetro num_words=max_features se utiliza para limitar el diccionario a las palabras más frecuentes (por ejemplo, las 10,000 más frecuentes). Esto ayuda a reducir el tamaño del vocabulario y a ignorar palabras poco comunes o ruido en los datos.  \n",
    "\n",
    "En resumen, no se emplea un algoritmo complejo avanzado, sino un proceso de tokenización junto con un análisis simple de frecuencias. Esto convierte cada reseña en una secuencia numérica que representa la posición de cada palabra dentro de un ranking por frecuencia.  "
   ]
  },
  {
   "cell_type": "code",
   "execution_count": 4,
   "id": "082283b6-a7ed-4ca7-a30d-9d23a40599f3",
   "metadata": {},
   "outputs": [
    {
     "name": "stdout",
     "output_type": "stream",
     "text": [
      "\n",
      "Decoded review:\n",
      "? this film was just brilliant casting location scenery story direction everyone's really suited the part they played and you could just imagine being there robert ? is an amazing actor and now the same being director ? father came from the same scottish island as myself so i loved the fact there was a real connection with this film the witty remarks throughout the film were great it was just brilliant so much that i bought the film as soon as it was released for ? and would recommend it to everyone to watch and the fly fishing was amazing really cried at the end it was so sad and you know what they say if you cry at a film it must have been good and this definitely was also ? to the two little boy's that played the ? of norman and paul they were just brilliant children are often left out of the ? list i think because the stars that play them all grown up are such a big profile for the whole film but these children are amazing and should be praised for what they have done don't you think the whole story was so lovely because it was true and was someone's life after all that was shared with us all\n"
     ]
    }
   ],
   "source": [
    "\n",
    "# To transform the integers back into words\n",
    "word_index = imdb.get_word_index()\n",
    "reverse_word_index = dict([(value, key) for (key, value) in word_index.items()])\n",
    "decoded_review = ' '.join([reverse_word_index.get(i - 3, '?') for i in x_train[0]])\n",
    "print(\"\\nDecoded review:\")\n",
    "print(decoded_review)\n",
    "#print(decode_review(x_train[1]))"
   ]
  },
  {
   "cell_type": "markdown",
   "id": "9bc63915-8520-4566-b678-1eeab6f01fda",
   "metadata": {},
   "source": [
    "#### Procesamiento\n",
    "\n",
    "Utilizamos pad_sequences para que todas las secuencias tengan la misma longitud.  \n",
    "Si no llega a max_len rellena si se pasa entonces trunca.\n",
    "Por deecto rellena por el principio y con ceros."
   ]
  },
  {
   "cell_type": "code",
   "execution_count": 3,
   "id": "c8f602d4-2ff7-4197-9109-ddce8f685490",
   "metadata": {},
   "outputs": [],
   "source": [
    "# ensure that all sequences in a list have the same length\n",
    "# it's done by padding (i.e., adding) zeros at the beginning of each sequence\n",
    "x_train = pad_sequences(x_train, maxlen=maxlen)\n",
    "x_test = pad_sequences(x_test, maxlen=maxlen)"
   ]
  },
  {
   "cell_type": "markdown",
   "id": "78d15b95-f5b8-41c6-a4a5-e49427bc7a1d",
   "metadata": {},
   "source": [
    "#### Build GNU model\n",
    "\n"
   ]
  },
  {
   "cell_type": "code",
   "execution_count": 6,
   "id": "14dca4a5-761e-4b93-a20a-ede5b2427390",
   "metadata": {},
   "outputs": [
    {
     "data": {
      "text/html": [
       "<pre style=\"white-space:pre;overflow-x:auto;line-height:normal;font-family:Menlo,'DejaVu Sans Mono',consolas,'Courier New',monospace\"><span style=\"font-weight: bold\">Model: \"sequential\"</span>\n",
       "</pre>\n"
      ],
      "text/plain": [
       "\u001b[1mModel: \"sequential\"\u001b[0m\n"
      ]
     },
     "metadata": {},
     "output_type": "display_data"
    },
    {
     "data": {
      "text/html": [
       "<pre style=\"white-space:pre;overflow-x:auto;line-height:normal;font-family:Menlo,'DejaVu Sans Mono',consolas,'Courier New',monospace\">┏━━━━━━━━━━━━━━━━━━━━━━━━━━━━━━━━━━━━━━┳━━━━━━━━━━━━━━━━━━━━━━━━━━━━━┳━━━━━━━━━━━━━━━━━┓\n",
       "┃<span style=\"font-weight: bold\"> Layer (type)                         </span>┃<span style=\"font-weight: bold\"> Output Shape                </span>┃<span style=\"font-weight: bold\">         Param # </span>┃\n",
       "┡━━━━━━━━━━━━━━━━━━━━━━━━━━━━━━━━━━━━━━╇━━━━━━━━━━━━━━━━━━━━━━━━━━━━━╇━━━━━━━━━━━━━━━━━┩\n",
       "│ embedding (<span style=\"color: #0087ff; text-decoration-color: #0087ff\">Embedding</span>)                │ ?                           │     <span style=\"color: #00af00; text-decoration-color: #00af00\">0</span> (unbuilt) │\n",
       "├──────────────────────────────────────┼─────────────────────────────┼─────────────────┤\n",
       "│ gru (<span style=\"color: #0087ff; text-decoration-color: #0087ff\">GRU</span>)                            │ ?                           │     <span style=\"color: #00af00; text-decoration-color: #00af00\">0</span> (unbuilt) │\n",
       "├──────────────────────────────────────┼─────────────────────────────┼─────────────────┤\n",
       "│ dense (<span style=\"color: #0087ff; text-decoration-color: #0087ff\">Dense</span>)                        │ ?                           │     <span style=\"color: #00af00; text-decoration-color: #00af00\">0</span> (unbuilt) │\n",
       "└──────────────────────────────────────┴─────────────────────────────┴─────────────────┘\n",
       "</pre>\n"
      ],
      "text/plain": [
       "┏━━━━━━━━━━━━━━━━━━━━━━━━━━━━━━━━━━━━━━┳━━━━━━━━━━━━━━━━━━━━━━━━━━━━━┳━━━━━━━━━━━━━━━━━┓\n",
       "┃\u001b[1m \u001b[0m\u001b[1mLayer (type)                        \u001b[0m\u001b[1m \u001b[0m┃\u001b[1m \u001b[0m\u001b[1mOutput Shape               \u001b[0m\u001b[1m \u001b[0m┃\u001b[1m \u001b[0m\u001b[1m        Param #\u001b[0m\u001b[1m \u001b[0m┃\n",
       "┡━━━━━━━━━━━━━━━━━━━━━━━━━━━━━━━━━━━━━━╇━━━━━━━━━━━━━━━━━━━━━━━━━━━━━╇━━━━━━━━━━━━━━━━━┩\n",
       "│ embedding (\u001b[38;5;33mEmbedding\u001b[0m)                │ ?                           │     \u001b[38;5;34m0\u001b[0m (unbuilt) │\n",
       "├──────────────────────────────────────┼─────────────────────────────┼─────────────────┤\n",
       "│ gru (\u001b[38;5;33mGRU\u001b[0m)                            │ ?                           │     \u001b[38;5;34m0\u001b[0m (unbuilt) │\n",
       "├──────────────────────────────────────┼─────────────────────────────┼─────────────────┤\n",
       "│ dense (\u001b[38;5;33mDense\u001b[0m)                        │ ?                           │     \u001b[38;5;34m0\u001b[0m (unbuilt) │\n",
       "└──────────────────────────────────────┴─────────────────────────────┴─────────────────┘\n"
      ]
     },
     "metadata": {},
     "output_type": "display_data"
    },
    {
     "data": {
      "text/html": [
       "<pre style=\"white-space:pre;overflow-x:auto;line-height:normal;font-family:Menlo,'DejaVu Sans Mono',consolas,'Courier New',monospace\"><span style=\"font-weight: bold\"> Total params: </span><span style=\"color: #00af00; text-decoration-color: #00af00\">0</span> (0.00 B)\n",
       "</pre>\n"
      ],
      "text/plain": [
       "\u001b[1m Total params: \u001b[0m\u001b[38;5;34m0\u001b[0m (0.00 B)\n"
      ]
     },
     "metadata": {},
     "output_type": "display_data"
    },
    {
     "data": {
      "text/html": [
       "<pre style=\"white-space:pre;overflow-x:auto;line-height:normal;font-family:Menlo,'DejaVu Sans Mono',consolas,'Courier New',monospace\"><span style=\"font-weight: bold\"> Trainable params: </span><span style=\"color: #00af00; text-decoration-color: #00af00\">0</span> (0.00 B)\n",
       "</pre>\n"
      ],
      "text/plain": [
       "\u001b[1m Trainable params: \u001b[0m\u001b[38;5;34m0\u001b[0m (0.00 B)\n"
      ]
     },
     "metadata": {},
     "output_type": "display_data"
    },
    {
     "data": {
      "text/html": [
       "<pre style=\"white-space:pre;overflow-x:auto;line-height:normal;font-family:Menlo,'DejaVu Sans Mono',consolas,'Courier New',monospace\"><span style=\"font-weight: bold\"> Non-trainable params: </span><span style=\"color: #00af00; text-decoration-color: #00af00\">0</span> (0.00 B)\n",
       "</pre>\n"
      ],
      "text/plain": [
       "\u001b[1m Non-trainable params: \u001b[0m\u001b[38;5;34m0\u001b[0m (0.00 B)\n"
      ]
     },
     "metadata": {},
     "output_type": "display_data"
    }
   ],
   "source": [
    "def create_gru_model(input_length, vocab_size, embedding_dim=100, gru_units=128):\n",
    "    # Create a sequential model (stacking layers on top of each other).\n",
    "    model = Sequential()\n",
    "    # Create an embedding layer to represent words as vectors.\n",
    "    model.add(Embedding(vocab_size, embedding_dim))\n",
    "    # Add a GRU layer (type of recurrent layer) to process sequences of words.\n",
    "    model.add(GRU(gru_units))\n",
    "    # Add a dense layer (fully connected) with sigmoid activation for binary classification (0 or 1).\n",
    "    model.add(Dense(1, activation='sigmoid'))\n",
    "    # Compile the model with loss function, optimizer, and metrics.\n",
    "    model.compile(loss='binary_crossentropy', optimizer='adam', metrics=['accuracy'])\n",
    "    return model\n",
    "\n",
    "# Create a GRU model with specific input length and vocabulary size.\n",
    "gru_model = create_gru_model(input_length=maxlen, vocab_size=max_features)\n",
    "# Print a summary of the model architecture.\n",
    "gru_model.summary()"
   ]
  },
  {
   "cell_type": "markdown",
   "id": "10fded21-c4bd-4774-85a8-2033d8991ac1",
   "metadata": {},
   "source": [
    "#### Building the LSTM model"
   ]
  },
  {
   "cell_type": "code",
   "execution_count": 7,
   "id": "abdffc12-3dd3-408f-a266-ec0c49671fa9",
   "metadata": {},
   "outputs": [
    {
     "name": "stderr",
     "output_type": "stream",
     "text": [
      "C:\\Users\\tomas\\ML\\deep\\Lib\\site-packages\\keras\\src\\layers\\core\\embedding.py:90: UserWarning: Argument `input_length` is deprecated. Just remove it.\n",
      "  warnings.warn(\n"
     ]
    },
    {
     "data": {
      "text/html": [
       "<pre style=\"white-space:pre;overflow-x:auto;line-height:normal;font-family:Menlo,'DejaVu Sans Mono',consolas,'Courier New',monospace\"><span style=\"font-weight: bold\">Model: \"sequential_1\"</span>\n",
       "</pre>\n"
      ],
      "text/plain": [
       "\u001b[1mModel: \"sequential_1\"\u001b[0m\n"
      ]
     },
     "metadata": {},
     "output_type": "display_data"
    },
    {
     "data": {
      "text/html": [
       "<pre style=\"white-space:pre;overflow-x:auto;line-height:normal;font-family:Menlo,'DejaVu Sans Mono',consolas,'Courier New',monospace\">┏━━━━━━━━━━━━━━━━━━━━━━━━━━━━━━━━━━━━━━┳━━━━━━━━━━━━━━━━━━━━━━━━━━━━━┳━━━━━━━━━━━━━━━━━┓\n",
       "┃<span style=\"font-weight: bold\"> Layer (type)                         </span>┃<span style=\"font-weight: bold\"> Output Shape                </span>┃<span style=\"font-weight: bold\">         Param # </span>┃\n",
       "┡━━━━━━━━━━━━━━━━━━━━━━━━━━━━━━━━━━━━━━╇━━━━━━━━━━━━━━━━━━━━━━━━━━━━━╇━━━━━━━━━━━━━━━━━┩\n",
       "│ embedding_1 (<span style=\"color: #0087ff; text-decoration-color: #0087ff\">Embedding</span>)              │ ?                           │     <span style=\"color: #00af00; text-decoration-color: #00af00\">0</span> (unbuilt) │\n",
       "├──────────────────────────────────────┼─────────────────────────────┼─────────────────┤\n",
       "│ lstm (<span style=\"color: #0087ff; text-decoration-color: #0087ff\">LSTM</span>)                          │ ?                           │     <span style=\"color: #00af00; text-decoration-color: #00af00\">0</span> (unbuilt) │\n",
       "├──────────────────────────────────────┼─────────────────────────────┼─────────────────┤\n",
       "│ dense_1 (<span style=\"color: #0087ff; text-decoration-color: #0087ff\">Dense</span>)                      │ ?                           │     <span style=\"color: #00af00; text-decoration-color: #00af00\">0</span> (unbuilt) │\n",
       "└──────────────────────────────────────┴─────────────────────────────┴─────────────────┘\n",
       "</pre>\n"
      ],
      "text/plain": [
       "┏━━━━━━━━━━━━━━━━━━━━━━━━━━━━━━━━━━━━━━┳━━━━━━━━━━━━━━━━━━━━━━━━━━━━━┳━━━━━━━━━━━━━━━━━┓\n",
       "┃\u001b[1m \u001b[0m\u001b[1mLayer (type)                        \u001b[0m\u001b[1m \u001b[0m┃\u001b[1m \u001b[0m\u001b[1mOutput Shape               \u001b[0m\u001b[1m \u001b[0m┃\u001b[1m \u001b[0m\u001b[1m        Param #\u001b[0m\u001b[1m \u001b[0m┃\n",
       "┡━━━━━━━━━━━━━━━━━━━━━━━━━━━━━━━━━━━━━━╇━━━━━━━━━━━━━━━━━━━━━━━━━━━━━╇━━━━━━━━━━━━━━━━━┩\n",
       "│ embedding_1 (\u001b[38;5;33mEmbedding\u001b[0m)              │ ?                           │     \u001b[38;5;34m0\u001b[0m (unbuilt) │\n",
       "├──────────────────────────────────────┼─────────────────────────────┼─────────────────┤\n",
       "│ lstm (\u001b[38;5;33mLSTM\u001b[0m)                          │ ?                           │     \u001b[38;5;34m0\u001b[0m (unbuilt) │\n",
       "├──────────────────────────────────────┼─────────────────────────────┼─────────────────┤\n",
       "│ dense_1 (\u001b[38;5;33mDense\u001b[0m)                      │ ?                           │     \u001b[38;5;34m0\u001b[0m (unbuilt) │\n",
       "└──────────────────────────────────────┴─────────────────────────────┴─────────────────┘\n"
      ]
     },
     "metadata": {},
     "output_type": "display_data"
    },
    {
     "data": {
      "text/html": [
       "<pre style=\"white-space:pre;overflow-x:auto;line-height:normal;font-family:Menlo,'DejaVu Sans Mono',consolas,'Courier New',monospace\"><span style=\"font-weight: bold\"> Total params: </span><span style=\"color: #00af00; text-decoration-color: #00af00\">0</span> (0.00 B)\n",
       "</pre>\n"
      ],
      "text/plain": [
       "\u001b[1m Total params: \u001b[0m\u001b[38;5;34m0\u001b[0m (0.00 B)\n"
      ]
     },
     "metadata": {},
     "output_type": "display_data"
    },
    {
     "data": {
      "text/html": [
       "<pre style=\"white-space:pre;overflow-x:auto;line-height:normal;font-family:Menlo,'DejaVu Sans Mono',consolas,'Courier New',monospace\"><span style=\"font-weight: bold\"> Trainable params: </span><span style=\"color: #00af00; text-decoration-color: #00af00\">0</span> (0.00 B)\n",
       "</pre>\n"
      ],
      "text/plain": [
       "\u001b[1m Trainable params: \u001b[0m\u001b[38;5;34m0\u001b[0m (0.00 B)\n"
      ]
     },
     "metadata": {},
     "output_type": "display_data"
    },
    {
     "data": {
      "text/html": [
       "<pre style=\"white-space:pre;overflow-x:auto;line-height:normal;font-family:Menlo,'DejaVu Sans Mono',consolas,'Courier New',monospace\"><span style=\"font-weight: bold\"> Non-trainable params: </span><span style=\"color: #00af00; text-decoration-color: #00af00\">0</span> (0.00 B)\n",
       "</pre>\n"
      ],
      "text/plain": [
       "\u001b[1m Non-trainable params: \u001b[0m\u001b[38;5;34m0\u001b[0m (0.00 B)\n"
      ]
     },
     "metadata": {},
     "output_type": "display_data"
    }
   ],
   "source": [
    "def create_lstm_model(input_length, vocab_size, embedding_dim=100, lstm_units=128):\n",
    "    # Create a sequential model (stacking layers)\n",
    "    model = Sequential()\n",
    "    # Create an embedding layer to represent words as vectors\n",
    "    model.add(Embedding(vocab_size, embedding_dim, input_length=input_length))\n",
    "    # Add an LSTM layer to process sequences of words\n",
    "    model.add(LSTM(lstm_units))\n",
    "    # Add a dense layer with sigmoid activation for binary classification (0 or 1)\n",
    "    model.add(Dense(1, activation='sigmoid'))\n",
    "    # Compile the model with loss function, optimizer, and metrics\n",
    "    model.compile(loss='binary_crossentropy', optimizer='adam', metrics=['accuracy'])\n",
    "    return model\n",
    "\n",
    "# Create an LSTM model with specific input length and vocabulary size\n",
    "lstm_model = create_lstm_model(input_length=maxlen, vocab_size=max_features)\n",
    "# Print a summary of the model architecture\n",
    "lstm_model.summary()"
   ]
  },
  {
   "cell_type": "markdown",
   "id": "62211d7b-f630-47d8-8e48-b7d81139a198",
   "metadata": {},
   "source": [
    "#### Training and evaluating the models"
   ]
  },
  {
   "cell_type": "code",
   "execution_count": 10,
   "id": "bfbe1678-64c7-45fd-ba6c-6911c1bf054e",
   "metadata": {},
   "outputs": [
    {
     "name": "stdout",
     "output_type": "stream",
     "text": [
      "int32\n",
      "int64\n",
      "int32\n",
      "int64\n"
     ]
    }
   ],
   "source": [
    "print(x_train.dtype) \n",
    "print(y_train.dtype) \n",
    "print(x_test.dtype) \n",
    "print(y_test.dtype) "
   ]
  },
  {
   "cell_type": "code",
   "execution_count": 33,
   "id": "f166d989-286b-4d8c-8a4b-9e39e4454371",
   "metadata": {},
   "outputs": [
    {
     "name": "stdout",
     "output_type": "stream",
     "text": [
      "\u001b[1m625/625\u001b[0m \u001b[32m━━━━━━━━━━━━━━━━━━━━\u001b[0m\u001b[37m\u001b[0m \u001b[1m199s\u001b[0m 314ms/step - accuracy: 0.6790 - loss: 0.5809 - val_accuracy: 0.7650 - val_loss: 0.5189\n",
      "\u001b[1m782/782\u001b[0m \u001b[32m━━━━━━━━━━━━━━━━━━━━\u001b[0m\u001b[37m\u001b[0m \u001b[1m117s\u001b[0m 149ms/step - accuracy: 0.7692 - loss: 0.5146\n",
      "GRU Test Accuracy: 0.7699\n"
     ]
    }
   ],
   "source": [
    "gru_history = gru_model.fit(\n",
    "    x_train,         # Datos de entrenamiento (entradas)\n",
    "    y_train,         # Etiquetas o targets asociados a las entradas\n",
    "    epochs=1,        # Número de veces que el modelo verá todo el conjunto de datos\n",
    "    batch_size=32,   # Número de muestras que se procesan antes de actualizar los pesos\n",
    "    validation_split=0.2  # Fracción de datos de entrenamiento que se reserva para validación (20%)\n",
    ")\n",
    "\n",
    "gru_loss, gru_accuracy = gru_model.evaluate(x_test, y_test)\n",
    "print(\"GRU Test Accuracy: {:.4f}\".format(gru_accuracy))"
   ]
  },
  {
   "cell_type": "code",
   "execution_count": 34,
   "id": "1af948a1-0e76-4a8f-99fe-0945ed7c1e24",
   "metadata": {},
   "outputs": [
    {
     "name": "stdout",
     "output_type": "stream",
     "text": [
      "\u001b[1m625/625\u001b[0m \u001b[32m━━━━━━━━━━━━━━━━━━━━\u001b[0m\u001b[37m\u001b[0m \u001b[1m242s\u001b[0m 385ms/step - accuracy: 0.6802 - loss: 0.5768 - val_accuracy: 0.8428 - val_loss: 0.3773\n",
      "\u001b[1m782/782\u001b[0m \u001b[32m━━━━━━━━━━━━━━━━━━━━\u001b[0m\u001b[37m\u001b[0m \u001b[1m118s\u001b[0m 151ms/step - accuracy: 0.8421 - loss: 0.3783\n",
      "LSTM Test Accuracy: 0.8437\n"
     ]
    }
   ],
   "source": [
    "lstm_history = lstm_model.fit(\n",
    "    x_train, y_train,\n",
    "    epochs=1,\n",
    "    batch_size=32,\n",
    "    validation_split=0.2\n",
    ")\n",
    "\n",
    "lstm_loss, lstm_accuracy = lstm_model.evaluate(x_test, y_test)\n",
    "print(\"LSTM Test Accuracy: {:.4f}\".format(lstm_accuracy))"
   ]
  },
  {
   "cell_type": "markdown",
   "id": "dcdb6de6-9b87-420e-ba82-e6eb7ef8d47f",
   "metadata": {},
   "source": [
    "You can further experiment with these models by:\n",
    "\n",
    "\n",
    "\n",
    "*   Adjusting the model architecture, such as the number of GRU or LSTM units.\n",
    "*   Changing the number of training epochs or batch size\n",
    "\n",
    "*   Trying different optimizers or learning rates.\n",
    "*   Applying regularization techniques, such as dropout or weight decay, to improve generalization.\n",
    "For more details on regularization, check out: https://developers.google.com/machine-learning/crash-course/regularization-for-simplicity/video-lecture"
   ]
  },
  {
   "cell_type": "markdown",
   "id": "9d47f521-46c0-4c50-83b3-ef30b144861b",
   "metadata": {},
   "source": [
    "#### Curva ROC"
   ]
  },
  {
   "cell_type": "code",
   "execution_count": 39,
   "id": "6f820b97-e8e7-4655-a582-5eef19ab7a58",
   "metadata": {},
   "outputs": [],
   "source": [
    "def curva_roc(y_pred, y_test):\n",
    "    from sklearn.metrics import roc_auc_score, roc_curve\n",
    "    import matplotlib.pyplot as plt\n",
    "\n",
    "    # 2. Calcular el ROC-AUC\n",
    "    roc_auc = roc_auc_score(y_test, y_pred)\n",
    "    print(\"ROC-AUC: {:.3f}\".format(roc_auc))\n",
    "    \n",
    "    # 3. Opcional: Calcular la curva ROC y graficarla\n",
    "    fpr, tpr, thresholds = roc_curve(y_test, y_pred)\n",
    "    plt.figure(figsize=(8, 6))\n",
    "    plt.plot(fpr, tpr, label='Curva ROC (AUC = {:.2f})'.format(roc_auc))\n",
    "    plt.plot([0, 1], [0, 1], 'k--')  # Línea diagonal de referencia\n",
    "    plt.xlabel('Tasa de falsos positivos')\n",
    "    plt.ylabel('Tasa de verdaderos positivos')\n",
    "    plt.title('Curva ROC')\n",
    "    plt.legend(loc=\"lower right\")\n",
    "    plt.show()"
   ]
  },
  {
   "cell_type": "code",
   "execution_count": 37,
   "id": "93966ef9-835a-4fb9-97bc-3c9558d3aeb0",
   "metadata": {},
   "outputs": [
    {
     "name": "stdout",
     "output_type": "stream",
     "text": [
      "\u001b[1m782/782\u001b[0m \u001b[32m━━━━━━━━━━━━━━━━━━━━\u001b[0m\u001b[37m\u001b[0m \u001b[1m75s\u001b[0m 96ms/step \n",
      "\u001b[1m782/782\u001b[0m \u001b[32m━━━━━━━━━━━━━━━━━━━━\u001b[0m\u001b[37m\u001b[0m \u001b[1m71s\u001b[0m 90ms/step \n"
     ]
    }
   ],
   "source": [
    "y_gru_pred = gru_model.predict(x_test)  \n",
    "y_lstm_pred = lstm_model.predict(x_test)  \n"
   ]
  },
  {
   "cell_type": "code",
   "execution_count": 40,
   "id": "1c180b34-bf4f-4a97-a064-256a61991782",
   "metadata": {},
   "outputs": [
    {
     "name": "stdout",
     "output_type": "stream",
     "text": [
      "ROC-AUC: 0.869\n"
     ]
    },
    {
     "data": {
      "image/png": "[encoded data removed]",
      "text/plain": [
       "<Figure size 800x600 with 1 Axes>"
      ]
     },
     "metadata": {},
     "output_type": "display_data"
    },
    {
     "name": "stdout",
     "output_type": "stream",
     "text": [
      "ROC-AUC: 0.916\n"
     ]
    },
    {
     "data": {
      "image/png": "[encoded data removed]",
      "text/plain": [
       "<Figure size 800x600 with 1 Axes>"
      ]
     },
     "metadata": {},
     "output_type": "display_data"
    }
   ],
   "source": [
    "curva_roc(y_gru_pred, y_test)\n",
    "curva_roc(y_lstm_pred, y_test)"
   ]
  },
  {
   "cell_type": "markdown",
   "id": "7dcd60e2-2d3f-4bf6-a9ba-63e1812d32e3",
   "metadata": {},
   "source": [
    "#### Visualiza los errores"
   ]
  },
  {
   "cell_type": "code",
   "execution_count": 46,
   "id": "1ce7cbe8-bf36-4e4c-a57c-ac07778b03a6",
   "metadata": {},
   "outputs": [
    {
     "name": "stdout",
     "output_type": "stream",
     "text": [
      "Número de ejemplos mal clasificados: 5753\n",
      "\n",
      "Ejemplo mal clasificado en el índice 3:\n",
      "Etiqueta real: 0\n",
      "Predicción: 1\n",
      "\n",
      "Reseña decodificada:\n",
      "i generally love this type of movie however this time i found myself wanting to kick the screen since i can't do that i will just complain about it this was absolutely idiotic the things that happen with the dead kids are very cool but the alive people are absolute idiots i am a grown man pretty big and i can defend myself well however i would not do half the stuff the little girl does in this movie also the mother in this movie is reckless with her children to the point of neglect i wish i wasn't so angry about her and her actions because i would have otherwise enjoyed the flick what a number she was take my advise and fast forward through everything you see her do until the end also is anyone else getting sick of watching movies that are filmed so dark anymore one can hardly see what is being filmed as an audience we are involved with the actions on the screen so then why the hell can't we have night vision\n"
     ]
    }
   ],
   "source": [
    "#y_gru_pred = gru_model.predict(x_test)\n",
    "# Convierte las probabilidades a etiquetas binarias usando un umbral de 0.5\n",
    "y_pred = (y_gru_pred > 0.5).astype(\"int32\").flatten()\n",
    "\n",
    "# Identificar los índices mal clasificados\n",
    "misclassified_idx = np.where(y_pred != y_test)[0]\n",
    "print(\"Número de ejemplos mal clasificados:\", len(misclassified_idx))\n",
    "\n",
    "if len(misclassified_idx) > 0:\n",
    "    # Seleccionamos el primer ejemplo mal clasificado\n",
    "    idx = misclassified_idx[1]\n",
    "    print(f\"\\nEjemplo mal clasificado en el índice {idx}:\")\n",
    "    print(\"Etiqueta real:\", y_test[idx])\n",
    "    print(\"Predicción:\", y_pred[idx])\n",
    "    \n",
    "    # Mostrar la secuencia (como números)\n",
    "    #print(\"\\nSecuencia (token IDs):\")\n",
    "    #print(x_test[idx])\n",
    " # Si deseas visualizar la reseña en texto, es necesario decodificar la secuencia.\n",
    "    # Para ello, construimos el diccionario inverso:\n",
    "    word_index = imdb.get_word_index()\n",
    "    # El dataset de IMDb reserva índices 0, 1 y 2 para padding, inicio de secuencia y desconocidos.\n",
    "    reverse_word_index = {value: key for key, value in word_index.items()}\n",
    "    \n",
    "    def decode_review(sequence):\n",
    "        # Se resta 3 a cada índice para compensar los tokens reservados.\n",
    "        return ' '.join([reverse_word_index.get(i - 3, '?') for i in sequence if i >= 3])\n",
    "    \n",
    "    review_text = decode_review(x_test[idx])\n",
    "    print(\"\\nReseña decodificada:\")\n",
    "    print(review_text)\n",
    "else:\n",
    "    print(\"No se encontraron ejemplos mal clasificados.\")"
   ]
  },
  {
   "cell_type": "markdown",
   "id": "b87d188b-c3be-4428-8092-b125d9852df3",
   "metadata": {},
   "source": [
    "#### Ejempo con BERT\n",
    "Reentrenemos BERT con los datos de reseñas de IMDB"
   ]
  },
  {
   "cell_type": "code",
   "execution_count": 6,
   "id": "5dd54ee3-babf-4c15-ae92-0a3cb1bb35a3",
   "metadata": {},
   "outputs": [
    {
     "name": "stdout",
     "output_type": "stream",
     "text": [
      "int32\n",
      "int64\n",
      "int32\n",
      "int64\n"
     ]
    }
   ],
   "source": [
    "print(x_train.dtype) \n",
    "print(y_train.dtype) \n",
    "print(x_test.dtype) \n",
    "print(y_test.dtype) \n"
   ]
  },
  {
   "cell_type": "code",
   "execution_count": null,
   "id": "97953e1a-20fc-43b2-8939-259efb4c708b",
   "metadata": {},
   "outputs": [],
   "source": [
    "import numpy as np\n",
    "import pandas as pd\n",
    "import tensorflow as tf\n",
    "from tensorflow.keras.models import Sequential\n",
    "from tensorflow.keras.layers import GRU, LSTM, Dense, Embedding\n",
    "from tensorflow.keras.preprocessing.sequence import pad_sequences\n",
    "from tensorflow.keras.datasets import imdb"
   ]
  },
  {
   "cell_type": "code",
   "execution_count": null,
   "id": "f3dbf960-ad12-4085-894d-a1b4f7c8f3d0",
   "metadata": {},
   "outputs": [],
   "source": [
    "max_features = 10000\n",
    "maxlen = 500\n",
    "\n",
    "(x_train, y_train), (x_test, y_test) = imdb.load_data(num_words=max_features)\n",
    "\n",
    "# Let's take a look at what the review is like!\n",
    "print(\"First review:\")\n",
    "print(x_train)\n",
    "\n",
    "print(\"\\nFirst review label:\")\n",
    "print(y_train)\n"
   ]
  },
  {
   "cell_type": "code",
   "execution_count": 27,
   "id": "662fc611-77a2-4de3-bad9-145bba340dec",
   "metadata": {},
   "outputs": [],
   "source": [
    "x_train = pad_sequences(x_train, maxlen=maxlen)\n",
    "x_test = pad_sequences(x_test, maxlen=maxlen)"
   ]
  },
  {
   "cell_type": "code",
   "execution_count": 28,
   "id": "4068c2b1-631c-41c1-82a2-56550bff5037",
   "metadata": {},
   "outputs": [
    {
     "ename": "OSError",
     "evalue": "El archivo de paginación es demasiado pequeño para completar la operación. (os error 1455)",
     "output_type": "error",
     "traceback": [
      "\u001b[31m---------------------------------------------------------------------------\u001b[39m",
      "\u001b[31mOSError\u001b[39m                                   Traceback (most recent call last)",
      "\u001b[36mCell\u001b[39m\u001b[36m \u001b[39m\u001b[32mIn[28]\u001b[39m\u001b[32m, line 6\u001b[39m\n\u001b[32m      3\u001b[39m \u001b[38;5;28;01mimport\u001b[39;00m\u001b[38;5;250m \u001b[39m\u001b[34;01mtensorflow\u001b[39;00m\u001b[38;5;250m \u001b[39m\u001b[38;5;28;01mas\u001b[39;00m\u001b[38;5;250m \u001b[39m\u001b[34;01mtf\u001b[39;00m\n\u001b[32m      5\u001b[39m \u001b[38;5;66;03m# Cargar modelo preentrenado\u001b[39;00m\n\u001b[32m----> \u001b[39m\u001b[32m6\u001b[39m modelo = \u001b[43mTFBertForSequenceClassification\u001b[49m\u001b[43m.\u001b[49m\u001b[43mfrom_pretrained\u001b[49m\u001b[43m(\u001b[49m\u001b[33;43m\"\u001b[39;49m\u001b[33;43mbert-base-uncased\u001b[39;49m\u001b[33;43m\"\u001b[39;49m\u001b[43m,\u001b[49m\u001b[43m \u001b[49m\u001b[43mnum_labels\u001b[49m\u001b[43m=\u001b[49m\u001b[32;43m2\u001b[39;49m\u001b[43m)\u001b[49m\n\u001b[32m      7\u001b[39m \u001b[38;5;66;03m#modelo = TFBertForSequenceClassification.from_pretrained(\"distilbert-base-uncased\", num_labels=2) \u001b[39;00m\n\u001b[32m      8\u001b[39m \u001b[38;5;66;03m# Convertir etiquetas en tensores\u001b[39;00m\n\u001b[32m      9\u001b[39m train_labels = tf.convert_to_tensor(y_train, dtype=tf.int32)\n",
      "\u001b[36mFile \u001b[39m\u001b[32m~\\ML\\nlp\\Lib\\site-packages\\transformers\\modeling_tf_utils.py:2905\u001b[39m, in \u001b[36mTFPreTrainedModel.from_pretrained\u001b[39m\u001b[34m(cls, pretrained_model_name_or_path, config, cache_dir, ignore_mismatched_sizes, force_download, local_files_only, token, revision, use_safetensors, *model_args, **kwargs)\u001b[39m\n\u001b[32m   2903\u001b[39m safetensors_from_pt = \u001b[38;5;28;01mFalse\u001b[39;00m\n\u001b[32m   2904\u001b[39m \u001b[38;5;28;01mif\u001b[39;00m filename == SAFE_WEIGHTS_NAME:\n\u001b[32m-> \u001b[39m\u001b[32m2905\u001b[39m     \u001b[38;5;28;01mwith\u001b[39;00m \u001b[43msafe_open\u001b[49m\u001b[43m(\u001b[49m\u001b[43mresolved_archive_file\u001b[49m\u001b[43m,\u001b[49m\u001b[43m \u001b[49m\u001b[43mframework\u001b[49m\u001b[43m=\u001b[49m\u001b[33;43m\"\u001b[39;49m\u001b[33;43mtf\u001b[39;49m\u001b[33;43m\"\u001b[39;49m\u001b[43m)\u001b[49m \u001b[38;5;28;01mas\u001b[39;00m f:\n\u001b[32m   2906\u001b[39m         safetensors_metadata = f.metadata()\n\u001b[32m   2907\u001b[39m     \u001b[38;5;28;01mif\u001b[39;00m safetensors_metadata \u001b[38;5;129;01mis\u001b[39;00m \u001b[38;5;28;01mNone\u001b[39;00m \u001b[38;5;129;01mor\u001b[39;00m safetensors_metadata.get(\u001b[33m\"\u001b[39m\u001b[33mformat\u001b[39m\u001b[33m\"\u001b[39m) \u001b[38;5;129;01mnot\u001b[39;00m \u001b[38;5;129;01min\u001b[39;00m [\u001b[33m\"\u001b[39m\u001b[33mpt\u001b[39m\u001b[33m\"\u001b[39m, \u001b[33m\"\u001b[39m\u001b[33mtf\u001b[39m\u001b[33m\"\u001b[39m, \u001b[33m\"\u001b[39m\u001b[33mflax\u001b[39m\u001b[33m\"\u001b[39m, \u001b[33m\"\u001b[39m\u001b[33mmlx\u001b[39m\u001b[33m\"\u001b[39m]:\n",
      "\u001b[31mOSError\u001b[39m: El archivo de paginación es demasiado pequeño para completar la operación. (os error 1455)"
     ]
    }
   ],
   "source": [
    "from transformers import TFBertForSequenceClassification\n",
    "from tensorflow.keras.optimizers import Adam\n",
    "import tensorflow as tf\n",
    "\n",
    "# Cargar modelo preentrenado\n",
    "modelo = TFBertForSequenceClassification.from_pretrained(\"bert-base-uncased\", num_labels=2)\n",
    "#modelo = TFBertForSequenceClassification.from_pretrained(\"distilbert-base-uncased\", num_labels=2) \n",
    "# Convertir etiquetas en tensores\n",
    "train_labels = tf.convert_to_tensor(y_train, dtype=tf.int32)\n",
    "test_labels = tf.convert_to_tensor(y_test, dtype=tf.int32)\n",
    "\n",
    "# Compilar el modelo\n",
    "modelo.compile(\n",
    "    optimizer=\"adam\",\n",
    "    loss=tf.keras.losses.SparseCategoricalCrossentropy(from_logits=True),\n",
    "    #loss=ttf.compat.v1.losses.sparse_softmax_cross_entropy(labels, logits, weights=1.0, scope=None, loss_collection=ops.GraphKeys.LOSSES, reduction=Reduction.SUM_BY_NONZERO_WEIGHTS),\n",
    "    metrics=[\"accuracy\"]\n",
    ")\n",
    "\n",
    "\n",
    "# Entrenar el modelo con batch_size de 1000\n",
    "#modelo.fit(x_train, y_train, epochs=3, batch_size=1000, validation_data=(x_test, y_test))\n",
    "#modelo.fit(x_train, train_labels, epochs=1, batch_size=100)\n",
    "# Evaluar el modelo\n",
    "#modelo.evaluate(x_test, test_labels)\n",
    "x_train_reducido = x_train[:500]\n",
    "y_train_reducido = y_train[:500]\n",
    "\n",
    "#modelo.fit(x_train_reducido, y_train_reducido, epochs=1, batch_size=32, validation_data=(x_test, y_test))\n",
    "\n",
    "\n",
    "modelo.fit(x_train_reducido, y_train_reducido, epochs=1, batch_size=8)\n",
    "\n",
    "\n",
    "salida_pred = modelo.predict(x_test, batch_size=8)\n",
    "y_pred = tf.nn.softmax(salida_pred.logits).numpy()\n",
    "y_pred_labels = np.argmax(y_pred, axis=1)  # Convertir a etiquetas (0 o 1)\n"
   ]
  },
  {
   "cell_type": "code",
   "execution_count": null,
   "id": "dc59a1fd-e4b0-41c6-99d9-20b89c30a5eb",
   "metadata": {},
   "outputs": [],
   "source": [
    "from transformers import TFBertForSequenceClassification\n",
    "from tensorflow.keras.optimizers import Adam\n",
    "import tensorflow as tf\n",
    "\n",
    "# Cargar modelo preentrenado\n",
    "modelo = TFBertForSequenceClassification.from_pretrained(\"bert-base-uncased\", num_labels=2)\n",
    "\n",
    "# Compilar el modelo con un optimizador adecuado\n",
    "modelo.compile(\n",
    "    optimizer=Adam(learning_rate=5e-5),\n",
    "    loss=tf.keras.losses.SparseCategoricalCrossentropy(from_logits=True),\n",
    "    metrics=[\"accuracy\"]\n",
    ")\n",
    "\n",
    "\n",
    "modelo.fit(x_train, y_train, epochs=3, batch_size=8, validation_data=(x_test, y_test))\n",
    "\n",
    "\n",
    "loss, accuracy = modelo.evaluate(x_test, y_test)\n",
    "print(f\"Pérdida: {loss:.4f}, Precisión: {accuracy:.4f}\")\n",
    "\n",
    "modelo.save_pretrained(\"./modelo_bert_sentimiento\")\n",
    "\n",
    "import tensorflow as tf\n",
    "import numpy as np\n",
    "from sklearn.metrics import accuracy_score, classification_report\n",
    "\n",
    "# Generar predicciones con el modelo usando `x_test`\n",
    "salida_pred = modelo.predict(x_test)\n",
    "\n",
    "# Convertir logits en probabilidades y etiquetas predichas\n",
    "y_pred = tf.nn.softmax(salida_pred.logits).numpy()  # Aplicar softmax para obtener probabilidades\n",
    "y_pred_labels = np.argmax(y_pred, axis=1)  # Convertir a etiquetas (0 o 1)\n",
    "\n"
   ]
  }
 ],
 "metadata": {
  "kernelspec": {
   "display_name": "Python 3.12 NLP",
   "language": "python",
   "name": "nlp"
  },
  "language_info": {
   "codemirror_mode": {
    "name": "ipython",
    "version": 3
   },
   "file_extension": ".py",
   "mimetype": "text/x-python",
   "name": "python",
   "nbconvert_exporter": "python",
   "pygments_lexer": "ipython3",
   "version": "3.12.9"
  }
 },
 "nbformat": 4,
 "nbformat_minor": 5
}
